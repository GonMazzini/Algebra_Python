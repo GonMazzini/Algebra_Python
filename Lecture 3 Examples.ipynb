{
 "cells": [
  {
   "cell_type": "markdown",
   "metadata": {},
   "source": [
    "# Optimization for wind energy applications\n",
    "\n",
    "## Nonlinear constrained optimization of simple mathematical functions."
   ]
  },
  {
   "cell_type": "markdown",
   "metadata": {},
   "source": [
    "First, if you are not familiar with linear algebra in python, work through the below.\n",
    "\n",
    "The syntax is very similar to matlab but there are some differences."
   ]
  },
  {
   "cell_type": "code",
   "execution_count": 2,
   "metadata": {},
   "outputs": [
    {
     "name": "stdout",
     "output_type": "stream",
     "text": [
      "[[0. 0. 0.]\n",
      " [0. 0. 0.]\n",
      " [0. 0. 0.]\n",
      " [0. 0. 0.]]\n",
      "[[1. 1. 1. 1.]\n",
      " [1. 1. 1. 1.]\n",
      " [1. 1. 1. 1.]]\n",
      "[[1. 0. 0.]\n",
      " [0. 1. 0.]\n",
      " [0. 0. 1.]]\n"
     ]
    }
   ],
   "source": [
    "# Start by importing numpy and creating some matrices\n",
    "import numpy as np\n",
    "\n",
    "# Linear Algebra - examples of basic matrix setup and operations\n",
    "# generating standard matrix type\n",
    "x=np.zeros((4,3))\n",
    "print(x)\n",
    "\n",
    "x=np.ones((3,4))\n",
    "print(x)\n",
    "\n",
    "x=np.eye(3)\n",
    "print(x)\n"
   ]
  },
  {
   "cell_type": "code",
   "execution_count": 3,
   "metadata": {},
   "outputs": [
    {
     "name": "stdout",
     "output_type": "stream",
     "text": [
      "6\n",
      "5\n",
      "[[ 5  3 -1]\n",
      " [ 0  9  7]\n",
      " [ 7 -1  6]]\n",
      "[[ 0  1  4]\n",
      " [ 9  4 25]\n",
      " [36  1  0]]\n",
      "[[ 0  1  4]\n",
      " [ 9  4 25]\n",
      " [36  1  0]]\n",
      "[[ -9   4   5]\n",
      " [ 36   2   4]\n",
      " [ -3   4 -17]]\n"
     ]
    }
   ],
   "source": [
    "# Perform some basic operations\n",
    "\n",
    "# fundamental operations for example matrices\n",
    "A = np.array([[0, 1, -2],[ 3, 2, 5],[ 6, -1, 0]])\n",
    "B = np.array([[3, -3, 12],[ 0, 4, 6]])\n",
    "C = np.array([[5, 2, 1],[ -3, 7, 2],[ 1, 0, 6]])\n",
    "\n",
    "# access particular cells in a matrix\n",
    "print(A[2,0])\n",
    "print(A[1,2])\n",
    "# add matrices by cell\n",
    "print(A + C)\n",
    "# matrix multiplication element-wise\n",
    "print(A*A)\n",
    "print(np.multiply(A,A))\n",
    "# matrix dot product\n",
    "print(A.dot(A))\n"
   ]
  },
  {
   "cell_type": "code",
   "execution_count": 4,
   "metadata": {},
   "outputs": [
    {
     "name": "stdout",
     "output_type": "stream",
     "text": [
      "[[ 3  0]\n",
      " [-3  4]\n",
      " [12  6]]\n",
      "[[-27  -8]\n",
      " [ 63  38]\n",
      " [ 21  -4]]\n"
     ]
    }
   ],
   "source": [
    "# Next, operations for transposing matrices and dot products\n",
    "\n",
    "# transpose matrix\n",
    "print(np.transpose(B))\n",
    "# matrix multiplication with transposed matrix\n",
    "print(A.dot(np.transpose(B)))\n"
   ]
  },
  {
   "cell_type": "code",
   "execution_count": 5,
   "metadata": {},
   "outputs": [
    {
     "name": "stdout",
     "output_type": "stream",
     "text": [
      "[[-14  11  -5]\n",
      " [ 50  22  41]\n",
      " [ 30   9 -13]]\n",
      "[[ 0  3  2]\n",
      " [ 0 18 35]\n",
      " [42  1  0]]\n",
      "[[ 2  5 -2]\n",
      " [-6 18  9]\n",
      " [14 -3  2]]\n",
      "[[ -5   7 -10]\n",
      " [ 14  20  37]\n",
      " [ 33   5   4]]\n",
      "[[12  8  0]\n",
      " [33  9 41]\n",
      " [36 -5 -2]]\n"
     ]
    }
   ],
   "source": [
    "# and try mixing operators\n",
    "\n",
    "# mixing matrix operators\n",
    "print(A.dot(A + C))\n",
    "print(A*(A + C))\n",
    "print(A^2+A*C)\n",
    "print(A.dot(C))\n",
    "print(C.dot(A))\n",
    "\n",
    "# play around a bit!"
   ]
  },
  {
   "cell_type": "code",
   "execution_count": 6,
   "metadata": {},
   "outputs": [
    {
     "name": "stdout",
     "output_type": "stream",
     "text": [
      "[[ 0.08333333  0.03333333  0.15      ]\n",
      " [ 0.5         0.2        -0.1       ]\n",
      " [-0.25        0.1        -0.05      ]]\n",
      "[[ 1.0000000e+00  0.0000000e+00  0.0000000e+00]\n",
      " [ 0.0000000e+00  1.0000000e+00 -6.9388939e-17]\n",
      " [ 0.0000000e+00  0.0000000e+00  1.0000000e+00]]\n",
      "[[-1.  1.]\n",
      " [-2.  1.]]\n",
      "[[1 0]\n",
      " [0 1]]\n"
     ]
    }
   ],
   "source": [
    "# finally, inverting matrices\n",
    "\n",
    "# inverse of a matrix\n",
    "print(np.linalg.inv(A))\n",
    "print(A.dot(np.linalg.inv(A)))\n",
    "print(np.linalg.inv(np.array([[1, -1], [2, -1]])))\n",
    "A = np.array([[-1, 1], [-2, 1]])\n",
    "print(A.dot(np.array([[1, -1],[ 2, -1]])))\n"
   ]
  },
  {
   "cell_type": "code",
   "execution_count": 7,
   "metadata": {},
   "outputs": [
    {
     "name": "stdout",
     "output_type": "stream",
     "text": [
      "[[ 0.5  0.5  0. ]\n",
      " [ 0.5 -4.5 -1. ]\n",
      " [ 0.5 -3.5 -1. ]]\n",
      "[ 1 -2  0]\n",
      "[-0.5  9.5  7.5]\n"
     ]
    }
   ],
   "source": [
    "# and then finding the solution for a system of equations\n",
    "\n",
    "\n",
    "# solving a simple system of equations\n",
    "A = np.array([[2, 1, -1],[ 0, -1, 1],[ 1, 4, -5]])\n",
    "b = np.array([1, -2, 0])\n",
    "A1 = np.linalg.inv(A)\n",
    "print(A1)\n",
    "print(b)\n",
    "x = A1.dot(b)\n",
    "print(x)"
   ]
  },
  {
   "cell_type": "code",
   "execution_count": null,
   "metadata": {},
   "outputs": [],
   "source": []
  },
  {
   "cell_type": "markdown",
   "metadata": {},
   "source": [
    "### Now that you have refreshed your linear algebra skills in python, lets do constrained optimization with equality constraints"
   ]
  },
  {
   "cell_type": "markdown",
   "metadata": {},
   "source": [
    "For our problem of f(x1,x2) = 0.25x1^2 + x2^2 with the constraint 5-x1-x2 = 0"
   ]
  },
  {
   "cell_type": "code",
   "execution_count": 8,
   "metadata": {},
   "outputs": [
    {
     "name": "stdout",
     "output_type": "stream",
     "text": [
      "[[ 0.5  0.  -1. ]\n",
      " [ 0.   2.  -1. ]\n",
      " [-1.  -1.   0. ]]\n",
      "[ 0  0 -5]\n",
      "[4. 1. 2.]\n"
     ]
    }
   ],
   "source": [
    "# Constrained optimization - solving a system of equations for optimization\n",
    "\n",
    "# with equality constraints\n",
    "# after finding derivatives, create the A matrix and the b column vector\n",
    "import numpy as np\n",
    "\n",
    "A = np.array([[0.5,0,-1], [0,2,-1], [-1,-1,0]])\n",
    "b = np.array([0, 0, -5])\n",
    "print(A)\n",
    "print(b)\n",
    "\n",
    "x = np.linalg.inv(A).dot(b)\n",
    "print(x)\n"
   ]
  },
  {
   "cell_type": "code",
   "execution_count": 9,
   "metadata": {},
   "outputs": [
    {
     "name": "stdout",
     "output_type": "stream",
     "text": [
      "0.0\n",
      "8.0\n"
     ]
    }
   ],
   "source": [
    "def f(x):\n",
    "    \n",
    "    return 0.25*x[0]**2 + x[1]**2\n",
    "\n",
    "print(f([0,0]))\n",
    "print(f([4,2]))"
   ]
  },
  {
   "cell_type": "markdown",
   "metadata": {},
   "source": [
    "Now lets try our function with multiple equality constraints\n",
    "\n",
    "min f(x,y,z) = x^2 + y^2 + z^2 such that 2-x-y = 0 and 1-y-z = 0"
   ]
  },
  {
   "cell_type": "code",
   "execution_count": 10,
   "metadata": {},
   "outputs": [
    {
     "name": "stdout",
     "output_type": "stream",
     "text": [
      "[[ 2  0  0 -1  0]\n",
      " [ 0  2  0 -1 -1]\n",
      " [ 0  0  2  0 -1]\n",
      " [ 1  1  0  0  0]\n",
      " [ 0  1  1  0  0]]\n",
      "[0 0 0 2 1]\n",
      "[1. 1. 0. 2. 0.]\n"
     ]
    }
   ],
   "source": [
    "# with multiple equality constraints\n",
    "A = np.array([[2, 0, 0, -1, 0],[ 0, 2, 0, -1, -1],[ 0, 0, 2, 0, -1],\n",
    "              [ 1, 1, 0, 0, 0],[ 0, 1, 1, 0, 0]])\n",
    "b = np.array([0, 0, 0, 2, 1])\n",
    "print(A)\n",
    "print(b)\n",
    "\n",
    "x = np.linalg.inv(A).dot(b)\n",
    "print(x)\n",
    "\n"
   ]
  },
  {
   "cell_type": "markdown",
   "metadata": {},
   "source": [
    "And what if we remove the first constraint?"
   ]
  },
  {
   "cell_type": "code",
   "execution_count": 13,
   "metadata": {},
   "outputs": [
    {
     "name": "stdout",
     "output_type": "stream",
     "text": [
      "[[ 2  0  0  0]\n",
      " [ 0  2  0 -1]\n",
      " [ 0  0  2 -1]\n",
      " [ 0  1  1  0]]\n",
      "[0 0 0 1]\n",
      "[0.  0.5 0.5 1. ]\n"
     ]
    }
   ],
   "source": [
    "# with multiple equality constraints\n",
    "A = np.array([[2, 0, 0, 0],[ 0, 2, 0, -1],[ 0, 0, 2, -1],\n",
    "              [ 0, 1, 1, 0]])\n",
    "b = np.array([0, 0, 0, 1])\n",
    "print(A)\n",
    "print(b)\n",
    "\n",
    "x = np.linalg.inv(A).dot(b)\n",
    "print(x)"
   ]
  },
  {
   "cell_type": "markdown",
   "metadata": {},
   "source": [
    "or the second constraints?"
   ]
  },
  {
   "cell_type": "code",
   "execution_count": 14,
   "metadata": {},
   "outputs": [
    {
     "name": "stdout",
     "output_type": "stream",
     "text": [
      "[[ 2  0  0 -1]\n",
      " [ 0  2  0 -1]\n",
      " [ 0  0  2  0]\n",
      " [ 1  1  0  0]]\n",
      "[0 0 0 1]\n",
      "[0.5 0.5 0.  1. ]\n"
     ]
    }
   ],
   "source": [
    "# with multiple equality constraints\n",
    "A = np.array([[2, 0, 0, -1],[ 0, 2, 0, -1],[ 0, 0, 2, 0],\n",
    "              [ 1, 1, 0, 0]])\n",
    "b = np.array([0, 0, 0, 1])\n",
    "print(A)\n",
    "print(b)\n",
    "\n",
    "x = np.linalg.inv(A).dot(b)\n",
    "print(x)"
   ]
  },
  {
   "cell_type": "markdown",
   "metadata": {},
   "source": [
    "### Inequality constrained optimization"
   ]
  },
  {
   "cell_type": "markdown",
   "metadata": {},
   "source": [
    "Problem 5.8 of Martins and Ning: A Column in compression.\n",
    "\n",
    "Consider a cantilevered beam with an H- shape cross-section composed of a web and flanges subject to a transverse load as shown in Fig. 5.34. The objective is to minimize the structural weight by varying the web thickness 𝑡𝑤 and the flange thickness 𝑡𝑏, subject to stress constraints. The other cross- sectional parameters are fixed; the web height h is 250 mm and the flange width 𝑏 is 125 mm. The axial stress in the flange and the shear stress in the web should not exceed the corresponding yield values (𝜎yield = 200 MPa and 𝜏yield = 116 MPa, respectively).\n",
    "\n",
    "Find the optimal values of 𝑡𝑏 and 𝑡𝑤 by solving the optimization problem. Plot the objective contours and constraints to verify your result graphically."
   ]
  },
  {
   "cell_type": "code",
   "execution_count": 82,
   "metadata": {},
   "outputs": [],
   "source": [
    "# define optimization problem functions and constants\n",
    "\n",
    "# define problem constants\n",
    "h = 0.25\n",
    "b = 0.125\n",
    "l = 1.\n",
    "P = 100000.\n",
    "sigma_yield = 200000000.\n",
    "tao_yield = 116000000.\n",
    "rho = 8000. # density of steel\n",
    "\n",
    "# second moment of area\n",
    "def I(tw,tb):\n",
    "\n",
    "    return (h**3/12.)*tw + (b/6.)*tb**3 + (h**2 * b / 2.)*tb\n",
    "\n",
    "# beam mass\n",
    "def mass(tw,tb):\n",
    "    \n",
    "    return (2*b*tb + h*tw)* 8000.\n",
    "\n",
    "# axial stress\n",
    "def axial(I):\n",
    "    \n",
    "    return  P*l*h / (2*I) - sigma_yield\n",
    "\n",
    "# shear stress\n",
    "def shear(tw):\n",
    "    \n",
    "    return 1.5*P / (h * tw) - tao_yield\n",
    "\n",
    "\n",
    "    "
   ]
  },
  {
   "cell_type": "code",
   "execution_count": 83,
   "metadata": {},
   "outputs": [
    {
     "name": "stdout",
     "output_type": "stream",
     "text": [
      "Mass: : 7.5\n",
      "Axial stress constraint value:  1335992320.0383997\n",
      "Shear stress constraint value:  124000000.0\n"
     ]
    }
   ],
   "source": [
    "# for a given web and flange starting thickness compute the objective function and constraints\n",
    "\n",
    "# initial conditions\n",
    "tw = h / 100.\n",
    "tb = b / 100.\n",
    "\n",
    "print(\"Mass: :\",mass(tw,tb))\n",
    "print(\"Axial stress constraint value: \", axial(I(tw,tb)))\n",
    "print(\"Shear stress constraint value: \", shear(tw))\n"
   ]
  },
  {
   "cell_type": "code",
   "execution_count": 84,
   "metadata": {},
   "outputs": [
    {
     "name": "stdout",
     "output_type": "stream",
     "text": [
      "Mass: : 15.0\n",
      "Axial stress constraint value:  567984640.3071938\n",
      "Shear stress constraint value:  4000000.0\n"
     ]
    }
   ],
   "source": [
    "# play around with the settings for tw, tb until you get a feasible solution\n",
    "# initial conditions\n",
    "tw = h / 50.\n",
    "tb = b / 50.\n",
    "\n",
    "print(\"Mass: :\",mass(tw,tb))\n",
    "print(\"Axial stress constraint value: \", axial(I(tw,tb)))\n",
    "print(\"Shear stress constraint value: \", shear(tw))"
   ]
  },
  {
   "cell_type": "code",
   "execution_count": 85,
   "metadata": {},
   "outputs": [],
   "source": [
    "# plot the objective function for different tb and tw\n",
    "\n",
    "import matplotlib.pyplot as plt\n",
    "\n",
    "# inputs\n",
    "xlist = np.linspace(0.01, 0.100, 100)\n",
    "ylist = np.linspace(0.01, 0.100, 100)\n",
    "\n",
    "# create grid\n",
    "X, Y = np.meshgrid(xlist, ylist)\n",
    "\n",
    "# calculate mass function\n",
    "Z = mass(X,Y)\n",
    "\n",
    "from mpl_toolkits.mplot3d import Axes3D  # noqa: F401 unused import\n",
    "from matplotlib import cm\n",
    "from matplotlib.ticker import LinearLocator, FormatStrFormatter\n",
    "\n",
    "# Plot the surface.\n",
    "surf = ax.plot_surface(X, Y, Z, cmap=cm.coolwarm,\n",
    "                       linewidth=0, antialiased=False)\n",
    "\n",
    "# Customize the z axis.\n",
    "ax.set_zlim(-10, 500)\n",
    "ax.zaxis.set_major_locator(LinearLocator(10))\n",
    "ax.zaxis.set_major_formatter(FormatStrFormatter('%.02f'))\n",
    "\n",
    "# Add a color bar which maps values to colors.\n",
    "fig.colorbar(surf, shrink=0.5, aspect=5)\n",
    "\n",
    "plt.show()"
   ]
  },
  {
   "cell_type": "code",
   "execution_count": 86,
   "metadata": {},
   "outputs": [
    {
     "data": {
      "image/png": "[encoded data removed]",
      "text/plain": [
       "<Figure size 432x288 with 2 Axes>"
      ]
     },
     "metadata": {
      "needs_background": "light"
     },
     "output_type": "display_data"
    },
    {
     "data": {
      "image/png": "[encoded data removed]",
      "text/plain": [
       "<Figure size 432x288 with 2 Axes>"
      ]
     },
     "metadata": {
      "needs_background": "light"
     },
     "output_type": "display_data"
    }
   ],
   "source": [
    "# plot constraint for same input ranges\n",
    "\n",
    "# calculate constraint functions\n",
    "Inertia = I(X,Y)\n",
    "AS = axial(Inertia)\n",
    "SS = shear(X)\n",
    "\n",
    "fig1 = plt.figure()\n",
    "ax = fig1.gca(projection='3d')\n",
    "\n",
    "# Plot the surface.\n",
    "surf2 = ax.plot_surface(X, Y, SS, cmap=cm.coolwarm,\n",
    "                       linewidth=0, antialiased=False)\n",
    "\n",
    "# Customize the z axis.\n",
    "ax.set_zlim(-100000000, 100000000)\n",
    "ax.zaxis.set_major_locator(LinearLocator(10))\n",
    "ax.zaxis.set_major_formatter(FormatStrFormatter('%.02f'))\n",
    "\n",
    "# Add a color bar which maps values to colors.\n",
    "fig1.colorbar(surf2, shrink=0.5, aspect=5)\n",
    "\n",
    "plt.show()\n",
    "\n",
    "fig2 = plt.figure()\n",
    "ax = fig2.gca(projection='3d')\n",
    "\n",
    "# Plot the surface.\n",
    "surf3 = ax.plot_surface(X, Y, AS, cmap=cm.coolwarm,\n",
    "                       linewidth=0, antialiased=False)\n",
    "\n",
    "# Customize the z axis.\n",
    "ax.set_zlim(-100000000, 100000000)\n",
    "ax.zaxis.set_major_locator(LinearLocator(10))\n",
    "ax.zaxis.set_major_formatter(FormatStrFormatter('%.02f'))\n",
    "\n",
    "# Add a color bar which maps values to colors.\n",
    "fig2.colorbar(surf3, shrink=0.5, aspect=5)\n",
    "\n",
    "plt.show()"
   ]
  },
  {
   "cell_type": "markdown",
   "metadata": {},
   "source": [
    "### Optimization with scipy\n",
    "\n",
    "Now lets use a formal optimizer to do the same. We will use scipy optimizer\n",
    "\n",
    "Check out the documentation here: https://docs.scipy.org/doc/scipy/reference/optimize.html \n",
    "Optimization with scipy is quite powerful and used broadly for optimization applications. It includes many different algorithms for solving optimization problems.\n",
    "\n",
    "For multi-variate functions (with 2 decision variables or more), scipy has many potential optimization algorithms:\n",
    "\n",
    "More detail can be found here:\n",
    "https://docs.scipy.org/doc/scipy/reference/generated/scipy.optimize.minimize.html#scipy.optimize.minimize"
   ]
  },
  {
   "cell_type": "code",
   "execution_count": 131,
   "metadata": {},
   "outputs": [],
   "source": [
    "# optimize using slsqp\n",
    "\n",
    "# set up function for optimization\n",
    "# define optimization problem functions and constants\n",
    "\n",
    "# define problem constants\n",
    "h = 0.25\n",
    "b = 0.125\n",
    "l = 1.\n",
    "P = 100000.\n",
    "sigma_yield = 200000000.\n",
    "tao_yield = 116000000.\n",
    "\n",
    "# beam mass\n",
    "def mass(t):\n",
    "    \n",
    "    tw = t[0]\n",
    "    tb = t[1]\n",
    "    return (2*b*tb + h*tw) \n",
    "\n",
    "# axial stress\n",
    "def axial(t):\n",
    "\n",
    "    tw = t[0]\n",
    "    tb = t[1]\n",
    "    I = (h**3/12.)*tw + (b/6.)*tb**3 + (h**2 * b / 2.)*tb\n",
    "    return  P*l*h / (2*I) - sigma_yield\n",
    "\n",
    "# shear stress\n",
    "def shear(t):\n",
    "    \n",
    "    tw = t[0]\n",
    "    s = 1.5*P / (h * tw) - tao_yield\n",
    "    return s\n"
   ]
  },
  {
   "cell_type": "code",
   "execution_count": 132,
   "metadata": {},
   "outputs": [
    {
     "data": {
      "text/plain": [
       "     fun: -38146972.57500002\n",
       "     jac: array([0., 0.])\n",
       " message: 'Optimization terminated successfully.'\n",
       "    nfev: 56\n",
       "     nit: 14\n",
       "    njev: 14\n",
       "  status: 0\n",
       " success: True\n",
       "       x: array([-76293945.15000004, -76293945.15000005])"
      ]
     },
     "execution_count": 132,
     "metadata": {},
     "output_type": "execute_result"
    }
   ],
   "source": [
    "# First lets try the problem unconstrained\n",
    "# Optimize the problem using the built in Newton's method\n",
    "from scipy.optimize import minimize\n",
    "\n",
    "minimize(mass, [0.100, 0.100], method=\"SLSQP\")"
   ]
  },
  {
   "cell_type": "code",
   "execution_count": 145,
   "metadata": {},
   "outputs": [
    {
     "name": "stdout",
     "output_type": "stream",
     "text": [
      "Initial mass:  0.046875\n",
      "Initial axial stress constraint:  -169659259.25925925\n",
      "Initial shear stress constraint:  -111200000.0\n",
      "Optimization terminated successfully.    (Exit mode 0)\n",
      "            Current function value: 0.004858202328095407\n",
      "            Iterations: 11\n",
      "            Function evaluations: 48\n",
      "            Gradient evaluations: 11\n"
     ]
    }
   ],
   "source": [
    "# The objective function goes extremely negative... \n",
    "# We have not put bounds on our variables, nor constraints on the stresses.\n",
    "# Let's try again but now gradients\n",
    "\n",
    "# specify with constraints\n",
    "#cons = ({'type': 'ineq', 'fun': axial},\n",
    "#        {'type': 'ineq', 'fun': shear})\n",
    "from scipy.optimize import NonlinearConstraint\n",
    "con1 = NonlinearConstraint(axial, -np.inf, 0)\n",
    "con2 = NonlinearConstraint(shear, -np.inf, 0)\n",
    "\n",
    "# dont forget bounds on the variables\n",
    "bnds = ((0.001, None), (0.001, None))\n",
    "\n",
    "# set up and check initial conditions\n",
    "tw = h / 2.\n",
    "tb = b / 2.\n",
    "print(\"Initial mass: \", mass([tw, tb]))\n",
    "print(\"Initial axial stress constraint: \", axial([tw, tb]))\n",
    "print(\"Initial shear stress constraint: \", shear([tw, tb]))\n",
    "\n",
    "f = minimize(mass, [tw, tb], method=\"SLSQP\", bounds=bnds, constraints=[con1, con2], \n",
    "         options={'maxiter': 100, 'ftol': 1e-06, 'iprint': 1, 'disp': True})\n"
   ]
  },
  {
   "cell_type": "code",
   "execution_count": 146,
   "metadata": {},
   "outputs": [
    {
     "name": "stdout",
     "output_type": "stream",
     "text": [
      "[0.00517241 0.0142604 ]\n",
      "0.004858202328095407\n",
      "-5.960464477539063e-08\n",
      "-5.960464477539062e-07\n"
     ]
    }
   ],
   "source": [
    "# constraints for final values?\n",
    "print(f.x)\n",
    "print(mass(f.x))\n",
    "print(axial(f.x))\n",
    "print(shear(f.x))"
   ]
  },
  {
   "cell_type": "markdown",
   "metadata": {},
   "source": [
    "What happens when you remove one or the other constraint?"
   ]
  },
  {
   "cell_type": "code",
   "execution_count": 148,
   "metadata": {},
   "outputs": [
    {
     "name": "stdout",
     "output_type": "stream",
     "text": [
      "Optimization terminated successfully.    (Exit mode 0)\n",
      "            Current function value: 0.004161559634680389\n",
      "            Iterations: 11\n",
      "            Function evaluations: 48\n",
      "            Gradient evaluations: 11\n",
      "[0.001      0.01564624]\n",
      "0.004161559634680389\n",
      "-1.0132789611816406e-06\n",
      "484000000.0\n"
     ]
    }
   ],
   "source": [
    "f = minimize(mass, [tw, tb], method=\"SLSQP\", bounds=bnds, constraints=[con1], \n",
    "         options={'maxiter': 100, 'ftol': 1e-06, 'iprint': 1, 'disp': True})\n",
    "\n",
    "# constraints for final values?\n",
    "print(f.x)\n",
    "print(mass(f.x))\n",
    "print(axial(f.x))\n",
    "print(shear(f.x))"
   ]
  },
  {
   "cell_type": "code",
   "execution_count": 149,
   "metadata": {},
   "outputs": [
    {
     "name": "stdout",
     "output_type": "stream",
     "text": [
      "Optimization terminated successfully.    (Exit mode 0)\n",
      "            Current function value: 0.0015431034482783492\n",
      "            Iterations: 9\n",
      "            Function evaluations: 40\n",
      "            Gradient evaluations: 9\n",
      "[0.00517241 0.001     ]\n",
      "0.0015431034482783492\n",
      "974681244.504488\n",
      "-0.00022311508655548096\n"
     ]
    }
   ],
   "source": [
    "f = minimize(mass, [tw, tb], method=\"SLSQP\", bounds=bnds, constraints=[con2], \n",
    "         options={'maxiter': 100, 'ftol': 1e-06, 'iprint': 1, 'disp': True})\n",
    "\n",
    "# constraints for final values?\n",
    "print(f.x)\n",
    "print(mass(f.x))\n",
    "print(axial(f.x))\n",
    "print(shear(f.x))"
   ]
  },
  {
   "cell_type": "code",
   "execution_count": null,
   "metadata": {},
   "outputs": [],
   "source": []
  }
 ],
 "metadata": {
  "hide_input": false,
  "kernelspec": {
   "display_name": "Python 3",
   "language": "python",
   "name": "python3"
  },
  "language_info": {
   "codemirror_mode": {
    "name": "ipython",
    "version": 3
   },
   "file_extension": ".py",
   "mimetype": "text/x-python",
   "name": "python",
   "nbconvert_exporter": "python",
   "pygments_lexer": "ipython3",
   "version": "3.7.6"
  }
 },
 "nbformat": 4,
 "nbformat_minor": 2
}
